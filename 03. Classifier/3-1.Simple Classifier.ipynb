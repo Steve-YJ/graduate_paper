{
 "cells": [
  {
   "cell_type": "markdown",
   "metadata": {},
   "source": [
    "# Malware Image Classification "
   ]
  },
  {
   "cell_type": "markdown",
   "metadata": {},
   "source": [
    "Simple Classifier를 통해 Malware Image를 분류해보자."
   ]
  },
  {
   "cell_type": "markdown",
   "metadata": {},
   "source": [
    "* 이전에 작성했던 코드(github)를 참고해도 좋고\n",
    "* 선대 연구자들이 연구한 자료 또는 코드를 참고해도 좋다.\n",
    "* 뭐가 되도 좋으니 하나만 한 번 제대로 해보자!"
   ]
  },
  {
   "cell_type": "markdown",
   "metadata": {},
   "source": [
    "## # 1. Import Library & Load Data"
   ]
  },
  {
   "cell_type": "code",
   "execution_count": 1,
   "metadata": {},
   "outputs": [],
   "source": [
    "import os\n",
    "import pickle\n",
    "import numpy as np\n",
    "\n",
    "import torch\n",
    "import torch.nn as nn\n",
    "import torch.nn.functional as F"
   ]
  },
  {
   "cell_type": "code",
   "execution_count": 22,
   "metadata": {},
   "outputs": [],
   "source": [
    "with open('../data.pkl', 'rb') as f:\n",
    "    data = pickle.load(f)  # pickle.load()\n",
    "    "
   ]
  },
  {
   "cell_type": "markdown",
   "metadata": {},
   "source": [
    "불러온 데이터를 확인해본다."
   ]
  },
  {
   "cell_type": "code",
   "execution_count": 23,
   "metadata": {
    "collapsed": true,
    "jupyter": {
     "outputs_hidden": true
    }
   },
   "outputs": [
    {
     "data": {
      "text/plain": [
       "(array([[ 94.,  32.,   2., ..., 129., 102., 124.],\n",
       "        [ 54.,  29.,   6., ..., 106., 119., 100.],\n",
       "        [ 54.,  29.,   6., ..., 120., 126., 104.],\n",
       "        ...,\n",
       "        [ 65.,  22.,  59., ..., 117., 116.,  98.],\n",
       "        [ 65.,  22.,  59., ..., 117., 116.,  98.],\n",
       "        [ 65.,  22.,  59., ..., 117., 116.,  98.]]),\n",
       " array([ 0.,  0.,  0., ..., 24., 24., 24.]),\n",
       " ['Adialer.C',\n",
       "  'Agent.FYI',\n",
       "  'Allaple.A',\n",
       "  'Allaple.L',\n",
       "  'Alueron.gen!J',\n",
       "  'Autorun.K',\n",
       "  'C2LOP.gen!g',\n",
       "  'C2LOP.P',\n",
       "  'Dialplatform.B',\n",
       "  'Dontovo.A',\n",
       "  'Fakerean',\n",
       "  'Instantaccess',\n",
       "  'Lolyda.AA1',\n",
       "  'Lolyda.AA2',\n",
       "  'Lolyda.AA3',\n",
       "  'Lolyda.AT',\n",
       "  'Malex.gen!J',\n",
       "  'Obfuscator.AD',\n",
       "  'Rbot!gen',\n",
       "  'Skintrim.N',\n",
       "  'Swizzor.gen!E',\n",
       "  'Swizzor.gen!I',\n",
       "  'VB.AT',\n",
       "  'Wintrim.BX',\n",
       "  'Yuner.A'],\n",
       " [122,\n",
       "  116,\n",
       "  2949,\n",
       "  1591,\n",
       "  198,\n",
       "  106,\n",
       "  200,\n",
       "  146,\n",
       "  177,\n",
       "  162,\n",
       "  381,\n",
       "  431,\n",
       "  213,\n",
       "  184,\n",
       "  123,\n",
       "  159,\n",
       "  136,\n",
       "  142,\n",
       "  158,\n",
       "  80,\n",
       "  128,\n",
       "  132,\n",
       "  408,\n",
       "  97,\n",
       "  800])"
      ]
     },
     "execution_count": 23,
     "metadata": {},
     "output_type": "execute_result"
    }
   ],
   "source": [
    "data"
   ]
  },
  {
   "cell_type": "code",
   "execution_count": 25,
   "metadata": {},
   "outputs": [
    {
     "data": {
      "text/plain": [
       "array([[ 94.,  32.,   2., ..., 129., 102., 124.],\n",
       "       [ 54.,  29.,   6., ..., 106., 119., 100.],\n",
       "       [ 54.,  29.,   6., ..., 120., 126., 104.],\n",
       "       ...,\n",
       "       [ 65.,  22.,  59., ..., 117., 116.,  98.],\n",
       "       [ 65.,  22.,  59., ..., 117., 116.,  98.],\n",
       "       [ 65.,  22.,  59., ..., 117., 116.,  98.]])"
      ]
     },
     "execution_count": 25,
     "metadata": {},
     "output_type": "execute_result"
    }
   ],
   "source": [
    "data[0]"
   ]
  },
  {
   "cell_type": "code",
   "execution_count": 26,
   "metadata": {},
   "outputs": [
    {
     "data": {
      "text/plain": [
       "array([ 54.,  29.,   6., ..., 106., 119., 100.])"
      ]
     },
     "execution_count": 26,
     "metadata": {},
     "output_type": "execute_result"
    }
   ],
   "source": [
    "malimg[1]"
   ]
  },
  {
   "cell_type": "code",
   "execution_count": 43,
   "metadata": {},
   "outputs": [
    {
     "data": {
      "text/plain": [
       "array([ 0.,  0.,  0., ..., 24., 24., 24.])"
      ]
     },
     "execution_count": 43,
     "metadata": {},
     "output_type": "execute_result"
    }
   ],
   "source": [
    "malimg[1]"
   ]
  },
  {
   "cell_type": "code",
   "execution_count": 44,
   "metadata": {
    "collapsed": true,
    "jupyter": {
     "outputs_hidden": true
    }
   },
   "outputs": [
    {
     "data": {
      "text/plain": [
       "['Adialer.C',\n",
       " 'Agent.FYI',\n",
       " 'Allaple.A',\n",
       " 'Allaple.L',\n",
       " 'Alueron.gen!J',\n",
       " 'Autorun.K',\n",
       " 'C2LOP.gen!g',\n",
       " 'C2LOP.P',\n",
       " 'Dialplatform.B',\n",
       " 'Dontovo.A',\n",
       " 'Fakerean',\n",
       " 'Instantaccess',\n",
       " 'Lolyda.AA1',\n",
       " 'Lolyda.AA2',\n",
       " 'Lolyda.AA3',\n",
       " 'Lolyda.AT',\n",
       " 'Malex.gen!J',\n",
       " 'Obfuscator.AD',\n",
       " 'Rbot!gen',\n",
       " 'Skintrim.N',\n",
       " 'Swizzor.gen!E',\n",
       " 'Swizzor.gen!I',\n",
       " 'VB.AT',\n",
       " 'Wintrim.BX',\n",
       " 'Yuner.A']"
      ]
     },
     "execution_count": 44,
     "metadata": {},
     "output_type": "execute_result"
    }
   ],
   "source": [
    "malimg[2]"
   ]
  },
  {
   "cell_type": "code",
   "execution_count": 45,
   "metadata": {
    "collapsed": true,
    "jupyter": {
     "outputs_hidden": true
    }
   },
   "outputs": [
    {
     "data": {
      "text/plain": [
       "[122,\n",
       " 116,\n",
       " 2949,\n",
       " 1591,\n",
       " 198,\n",
       " 106,\n",
       " 200,\n",
       " 146,\n",
       " 177,\n",
       " 162,\n",
       " 381,\n",
       " 431,\n",
       " 213,\n",
       " 184,\n",
       " 123,\n",
       " 159,\n",
       " 136,\n",
       " 142,\n",
       " 158,\n",
       " 80,\n",
       " 128,\n",
       " 132,\n",
       " 408,\n",
       " 97,\n",
       " 800]"
      ]
     },
     "execution_count": 45,
     "metadata": {},
     "output_type": "execute_result"
    }
   ],
   "source": [
    "malimg[3]"
   ]
  },
  {
   "cell_type": "markdown",
   "metadata": {},
   "source": [
    "### Import Torch Library"
   ]
  },
  {
   "cell_type": "code",
   "execution_count": 9,
   "metadata": {},
   "outputs": [],
   "source": [
    "# 참고(Reference)\n",
    "# 나의 깃헙\n",
    "# https://github.com/Steve-YJ/deep-learning-from-scratch-studying/blob/master/02_PyTorch_Introduction_Basic/Ch05_5.5_%EC%99%80%EC%9D%B8%20%EB%B6%84%EB%A5%98%ED%95%98%EA%B8%B0.ipynb\n",
    "\n",
    "\n",
    "# PyTorch 라이브러리 임포트\n",
    "import torch\n",
    "from torch.autograd import Variable  # Variable?\n",
    "import torch.nn as nn\n",
    "import torch.nn.functional as F\n",
    "import torch.optim as optim\n",
    "from torch.utils.data import DataLoader, TensorDataset\n",
    "\n",
    "# scikit-learn 라이브러리 임포트\n",
    "# from sklearn.datasets import load_wine\n",
    "from sklearn.model_selection import train_test_split  # sklearn.model_selection\n",
    "\n",
    "# Pandas 라이브러리 임포트\n",
    "import pandas as pd"
   ]
  },
  {
   "cell_type": "markdown",
   "metadata": {},
   "source": [
    "### Load Data"
   ]
  },
  {
   "cell_type": "code",
   "execution_count": 27,
   "metadata": {
    "collapsed": true,
    "jupyter": {
     "outputs_hidden": true
    }
   },
   "outputs": [
    {
     "data": {
      "text/plain": [
       "(array([[ 94.,  32.,   2., ..., 129., 102., 124.],\n",
       "        [ 54.,  29.,   6., ..., 106., 119., 100.],\n",
       "        [ 54.,  29.,   6., ..., 120., 126., 104.],\n",
       "        ...,\n",
       "        [ 65.,  22.,  59., ..., 117., 116.,  98.],\n",
       "        [ 65.,  22.,  59., ..., 117., 116.,  98.],\n",
       "        [ 65.,  22.,  59., ..., 117., 116.,  98.]]),\n",
       " array([ 0.,  0.,  0., ..., 24., 24., 24.]),\n",
       " ['Adialer.C',\n",
       "  'Agent.FYI',\n",
       "  'Allaple.A',\n",
       "  'Allaple.L',\n",
       "  'Alueron.gen!J',\n",
       "  'Autorun.K',\n",
       "  'C2LOP.gen!g',\n",
       "  'C2LOP.P',\n",
       "  'Dialplatform.B',\n",
       "  'Dontovo.A',\n",
       "  'Fakerean',\n",
       "  'Instantaccess',\n",
       "  'Lolyda.AA1',\n",
       "  'Lolyda.AA2',\n",
       "  'Lolyda.AA3',\n",
       "  'Lolyda.AT',\n",
       "  'Malex.gen!J',\n",
       "  'Obfuscator.AD',\n",
       "  'Rbot!gen',\n",
       "  'Skintrim.N',\n",
       "  'Swizzor.gen!E',\n",
       "  'Swizzor.gen!I',\n",
       "  'VB.AT',\n",
       "  'Wintrim.BX',\n",
       "  'Yuner.A'],\n",
       " [122,\n",
       "  116,\n",
       "  2949,\n",
       "  1591,\n",
       "  198,\n",
       "  106,\n",
       "  200,\n",
       "  146,\n",
       "  177,\n",
       "  162,\n",
       "  381,\n",
       "  431,\n",
       "  213,\n",
       "  184,\n",
       "  123,\n",
       "  159,\n",
       "  136,\n",
       "  142,\n",
       "  158,\n",
       "  80,\n",
       "  128,\n",
       "  132,\n",
       "  408,\n",
       "  97,\n",
       "  800])"
      ]
     },
     "execution_count": 27,
     "metadata": {},
     "output_type": "execute_result"
    }
   ],
   "source": [
    "# Malimg 데이터 읽어들이기\n",
    "\n",
    "malimg = data\n",
    "# malimg"
   ]
  },
  {
   "cell_type": "markdown",
   "metadata": {},
   "source": [
    "malware sample에 대한 vector값"
   ]
  },
  {
   "cell_type": "code",
   "execution_count": 28,
   "metadata": {},
   "outputs": [
    {
     "data": {
      "text/plain": [
       "array([[ 94.,  32.,   2., ..., 129., 102., 124.],\n",
       "       [ 54.,  29.,   6., ..., 106., 119., 100.],\n",
       "       [ 54.,  29.,   6., ..., 120., 126., 104.],\n",
       "       ...,\n",
       "       [ 65.,  22.,  59., ..., 117., 116.,  98.],\n",
       "       [ 65.,  22.,  59., ..., 117., 116.,  98.],\n",
       "       [ 65.,  22.,  59., ..., 117., 116.,  98.]])"
      ]
     },
     "execution_count": 28,
     "metadata": {},
     "output_type": "execute_result"
    }
   ],
   "source": [
    "data = malimg[0]\n",
    "data"
   ]
  },
  {
   "cell_type": "code",
   "execution_count": 29,
   "metadata": {},
   "outputs": [
    {
     "data": {
      "text/plain": [
       "(9339, 50176)"
      ]
     },
     "execution_count": 29,
     "metadata": {},
     "output_type": "execute_result"
    }
   ],
   "source": [
    "data.shape"
   ]
  },
  {
   "cell_type": "markdown",
   "metadata": {},
   "source": [
    "* 정리\n",
    "    * 9339개의 Malware Image Sample 데이터\n",
    "    * 각각의 데이터 샘플은 50176 vector로 이루어져있다. (224x224)\n"
   ]
  },
  {
   "cell_type": "markdown",
   "metadata": {},
   "source": [
    "## #2. Data Preprocessing"
   ]
  },
  {
   "cell_type": "markdown",
   "metadata": {},
   "source": [
    "* NumPy to DataFrame \n",
    "* Data Preprocessing"
   ]
  },
  {
   "cell_type": "markdown",
   "metadata": {},
   "source": [
    "### NumPy to DataFrame\n",
    "malimg data타입은 NumPy배열이므로 한 번에 내용을 파악하기 어렵다.\n",
    "pandas library를 이용해 데이터를 파악해보자."
   ]
  },
  {
   "cell_type": "code",
   "execution_count": 30,
   "metadata": {},
   "outputs": [
    {
     "data": {
      "text/html": [
       "<div>\n",
       "<style scoped>\n",
       "    .dataframe tbody tr th:only-of-type {\n",
       "        vertical-align: middle;\n",
       "    }\n",
       "\n",
       "    .dataframe tbody tr th {\n",
       "        vertical-align: top;\n",
       "    }\n",
       "\n",
       "    .dataframe thead th {\n",
       "        text-align: right;\n",
       "    }\n",
       "</style>\n",
       "<table border=\"1\" class=\"dataframe\">\n",
       "  <thead>\n",
       "    <tr style=\"text-align: right;\">\n",
       "      <th></th>\n",
       "      <th>0</th>\n",
       "      <th>1</th>\n",
       "      <th>2</th>\n",
       "      <th>3</th>\n",
       "      <th>4</th>\n",
       "      <th>5</th>\n",
       "      <th>6</th>\n",
       "      <th>7</th>\n",
       "      <th>8</th>\n",
       "      <th>9</th>\n",
       "      <th>...</th>\n",
       "      <th>50166</th>\n",
       "      <th>50167</th>\n",
       "      <th>50168</th>\n",
       "      <th>50169</th>\n",
       "      <th>50170</th>\n",
       "      <th>50171</th>\n",
       "      <th>50172</th>\n",
       "      <th>50173</th>\n",
       "      <th>50174</th>\n",
       "      <th>50175</th>\n",
       "    </tr>\n",
       "  </thead>\n",
       "  <tbody>\n",
       "    <tr>\n",
       "      <th>0</th>\n",
       "      <td>94.0</td>\n",
       "      <td>32.0</td>\n",
       "      <td>2.0</td>\n",
       "      <td>3.0</td>\n",
       "      <td>0.0</td>\n",
       "      <td>98.0</td>\n",
       "      <td>40.0</td>\n",
       "      <td>30.0</td>\n",
       "      <td>4.0</td>\n",
       "      <td>6.0</td>\n",
       "      <td>...</td>\n",
       "      <td>111.0</td>\n",
       "      <td>170.0</td>\n",
       "      <td>155.0</td>\n",
       "      <td>138.0</td>\n",
       "      <td>155.0</td>\n",
       "      <td>150.0</td>\n",
       "      <td>75.0</td>\n",
       "      <td>129.0</td>\n",
       "      <td>102.0</td>\n",
       "      <td>124.0</td>\n",
       "    </tr>\n",
       "    <tr>\n",
       "      <th>1</th>\n",
       "      <td>54.0</td>\n",
       "      <td>29.0</td>\n",
       "      <td>6.0</td>\n",
       "      <td>35.0</td>\n",
       "      <td>49.0</td>\n",
       "      <td>147.0</td>\n",
       "      <td>53.0</td>\n",
       "      <td>50.0</td>\n",
       "      <td>1.0</td>\n",
       "      <td>43.0</td>\n",
       "      <td>...</td>\n",
       "      <td>102.0</td>\n",
       "      <td>78.0</td>\n",
       "      <td>132.0</td>\n",
       "      <td>115.0</td>\n",
       "      <td>147.0</td>\n",
       "      <td>96.0</td>\n",
       "      <td>112.0</td>\n",
       "      <td>106.0</td>\n",
       "      <td>119.0</td>\n",
       "      <td>100.0</td>\n",
       "    </tr>\n",
       "    <tr>\n",
       "      <th>2</th>\n",
       "      <td>54.0</td>\n",
       "      <td>29.0</td>\n",
       "      <td>6.0</td>\n",
       "      <td>35.0</td>\n",
       "      <td>49.0</td>\n",
       "      <td>147.0</td>\n",
       "      <td>53.0</td>\n",
       "      <td>50.0</td>\n",
       "      <td>1.0</td>\n",
       "      <td>43.0</td>\n",
       "      <td>...</td>\n",
       "      <td>145.0</td>\n",
       "      <td>103.0</td>\n",
       "      <td>85.0</td>\n",
       "      <td>126.0</td>\n",
       "      <td>112.0</td>\n",
       "      <td>120.0</td>\n",
       "      <td>108.0</td>\n",
       "      <td>120.0</td>\n",
       "      <td>126.0</td>\n",
       "      <td>104.0</td>\n",
       "    </tr>\n",
       "    <tr>\n",
       "      <th>3</th>\n",
       "      <td>94.0</td>\n",
       "      <td>32.0</td>\n",
       "      <td>2.0</td>\n",
       "      <td>3.0</td>\n",
       "      <td>0.0</td>\n",
       "      <td>98.0</td>\n",
       "      <td>40.0</td>\n",
       "      <td>30.0</td>\n",
       "      <td>4.0</td>\n",
       "      <td>6.0</td>\n",
       "      <td>...</td>\n",
       "      <td>91.0</td>\n",
       "      <td>186.0</td>\n",
       "      <td>160.0</td>\n",
       "      <td>118.0</td>\n",
       "      <td>161.0</td>\n",
       "      <td>170.0</td>\n",
       "      <td>129.0</td>\n",
       "      <td>100.0</td>\n",
       "      <td>92.0</td>\n",
       "      <td>133.0</td>\n",
       "    </tr>\n",
       "    <tr>\n",
       "      <th>4</th>\n",
       "      <td>95.0</td>\n",
       "      <td>32.0</td>\n",
       "      <td>2.0</td>\n",
       "      <td>3.0</td>\n",
       "      <td>0.0</td>\n",
       "      <td>98.0</td>\n",
       "      <td>40.0</td>\n",
       "      <td>31.0</td>\n",
       "      <td>4.0</td>\n",
       "      <td>6.0</td>\n",
       "      <td>...</td>\n",
       "      <td>79.0</td>\n",
       "      <td>94.0</td>\n",
       "      <td>173.0</td>\n",
       "      <td>113.0</td>\n",
       "      <td>113.0</td>\n",
       "      <td>107.0</td>\n",
       "      <td>116.0</td>\n",
       "      <td>101.0</td>\n",
       "      <td>126.0</td>\n",
       "      <td>129.0</td>\n",
       "    </tr>\n",
       "  </tbody>\n",
       "</table>\n",
       "<p>5 rows × 50176 columns</p>\n",
       "</div>"
      ],
      "text/plain": [
       "   0      1      2      3      4      5      6      7      8      9      ...  \\\n",
       "0   94.0   32.0    2.0    3.0    0.0   98.0   40.0   30.0    4.0    6.0  ...   \n",
       "1   54.0   29.0    6.0   35.0   49.0  147.0   53.0   50.0    1.0   43.0  ...   \n",
       "2   54.0   29.0    6.0   35.0   49.0  147.0   53.0   50.0    1.0   43.0  ...   \n",
       "3   94.0   32.0    2.0    3.0    0.0   98.0   40.0   30.0    4.0    6.0  ...   \n",
       "4   95.0   32.0    2.0    3.0    0.0   98.0   40.0   31.0    4.0    6.0  ...   \n",
       "\n",
       "   50166  50167  50168  50169  50170  50171  50172  50173  50174  50175  \n",
       "0  111.0  170.0  155.0  138.0  155.0  150.0   75.0  129.0  102.0  124.0  \n",
       "1  102.0   78.0  132.0  115.0  147.0   96.0  112.0  106.0  119.0  100.0  \n",
       "2  145.0  103.0   85.0  126.0  112.0  120.0  108.0  120.0  126.0  104.0  \n",
       "3   91.0  186.0  160.0  118.0  161.0  170.0  129.0  100.0   92.0  133.0  \n",
       "4   79.0   94.0  173.0  113.0  113.0  107.0  116.0  101.0  126.0  129.0  \n",
       "\n",
       "[5 rows x 50176 columns]"
      ]
     },
     "execution_count": 30,
     "metadata": {},
     "output_type": "execute_result"
    }
   ],
   "source": [
    "df = pd.DataFrame(data)\n",
    "df.head()"
   ]
  },
  {
   "cell_type": "markdown",
   "metadata": {},
   "source": [
    "feature의 개수가 몇 개 안될때는 확인이 가능하지만 이미지 데이터처럼 feature의 개수가 50172개일 경우에는 효과적인지 모르겠다."
   ]
  },
  {
   "cell_type": "code",
   "execution_count": 31,
   "metadata": {},
   "outputs": [
    {
     "data": {
      "text/plain": [
       "array([ 0.,  0.,  0., ..., 24., 24., 24.])"
      ]
     },
     "execution_count": 31,
     "metadata": {},
     "output_type": "execute_result"
    }
   ],
   "source": [
    "# 목적변수 데이터 출력\n",
    "target = malimg[1]\n",
    "target"
   ]
  },
  {
   "cell_type": "markdown",
   "metadata": {},
   "source": [
    "### Data Preprocessing\n",
    "* 설명변수 목적변수 분할\n",
    "* Train_Test_Split"
   ]
  },
  {
   "cell_type": "markdown",
   "metadata": {},
   "source": [
    "Q. 이미 데이터 전처리를 통해 설명변수와 목적변수를 분할해 두었다."
   ]
  },
  {
   "cell_type": "code",
   "execution_count": 32,
   "metadata": {},
   "outputs": [
    {
     "data": {
      "text/plain": [
       "array([[ 94.,  32.,   2., ..., 129., 102., 124.],\n",
       "       [ 54.,  29.,   6., ..., 106., 119., 100.],\n",
       "       [ 54.,  29.,   6., ..., 120., 126., 104.],\n",
       "       ...,\n",
       "       [ 65.,  22.,  59., ..., 117., 116.,  98.],\n",
       "       [ 65.,  22.,  59., ..., 117., 116.,  98.],\n",
       "       [ 65.,  22.,  59., ..., 117., 116.,  98.]])"
      ]
     },
     "execution_count": 32,
     "metadata": {},
     "output_type": "execute_result"
    }
   ],
   "source": [
    "data"
   ]
  },
  {
   "cell_type": "code",
   "execution_count": 60,
   "metadata": {},
   "outputs": [
    {
     "data": {
      "text/plain": [
       "array([ 54.,  29.,   6., ..., 106., 119., 100.])"
      ]
     },
     "execution_count": 60,
     "metadata": {},
     "output_type": "execute_result"
    }
   ],
   "source": [
    "target"
   ]
  },
  {
   "cell_type": "markdown",
   "metadata": {},
   "source": [
    "### Train_Test Split"
   ]
  },
  {
   "cell_type": "markdown",
   "metadata": {},
   "source": [
    "데이터 집합을 훈련 데이터와 테스트 데이터로 분할한다."
   ]
  },
  {
   "cell_type": "code",
   "execution_count": 33,
   "metadata": {},
   "outputs": [
    {
     "name": "stdout",
     "output_type": "stream",
     "text": [
      "7471\n",
      "1868\n"
     ]
    }
   ],
   "source": [
    "# 데이터 집합을 훈련 데이터와 테스트 데이터로 분할\n",
    "train_X, test_X, train_Y, test_Y = train_test_split(data, target, test_size = 0.2)\n",
    "\n",
    "print(len(train_X))  # train data에서 설명변수X\n",
    "print(len(test_X))   # test data에서 설명변수X"
   ]
  },
  {
   "cell_type": "markdown",
   "metadata": {},
   "source": [
    "Train_Test Split 정리<br>\n",
    "train 데이터의 설명변수의 변수명은 train_X, 목적변수의 변수명은 train_Y\n",
    "test 데이터에서는?<br>\n",
    "test 데이터의 설명변수의 변수명은 test_X, 목적변수명은 test_Y로 한다."
   ]
  },
  {
   "cell_type": "markdown",
   "metadata": {},
   "source": [
    "## #3. Make Tensor(텐서 생성)"
   ]
  },
  {
   "cell_type": "markdown",
   "metadata": {},
   "source": [
    "완성된 train, test 데이터를 PyTorch의 tensor 데이터로 변환해준다.<br>\n",
    "즉 모델의 학습 준비가 끝난 데이터를 파이토치가 다룰 수 있는 형태로 정리한다.\n",
    "* 훈련 데이터, 테스트 데이터 tensor 변환\n",
    "* train데이터의 X와 Y데이터 tensorDataset으로 병합\n",
    "* Mini-Batch\n"
   ]
  },
  {
   "cell_type": "markdown",
   "metadata": {},
   "source": [
    "### 훈련 데이터, 테스트 데이터 tensor 변환\n",
    "<code>torch.from_numpy()</code>"
   ]
  },
  {
   "cell_type": "code",
   "execution_count": 34,
   "metadata": {},
   "outputs": [
    {
     "name": "stdout",
     "output_type": "stream",
     "text": [
      "torch.Size([7471, 50176])\n",
      "torch.Size([7471])\n",
      "torch.Size([1868, 50176])\n",
      "torch.Size([1868])\n"
     ]
    }
   ],
   "source": [
    "# 훈련 데이터 텐서 변환\n",
    "train_X = torch.from_numpy(train_X).float()\n",
    "train_Y = torch.from_numpy(train_Y).long()\n",
    "\n",
    "# 테스트 데이터 텐서 변환\n",
    "test_X = torch.from_numpy(test_X).float()\n",
    "test_Y = torch.from_numpy(test_Y).long()\n",
    "\n",
    "# 텐서로 변환한 데이터 건수 확인\n",
    "print(train_X.shape)\n",
    "print(train_Y.shape)\n",
    "print(test_X.shape)\n",
    "print(test_Y.shape)"
   ]
  },
  {
   "cell_type": "markdown",
   "metadata": {},
   "source": [
    "여기까지 Train_Test Split --20.04.16.Thur.pm 4:14--"
   ]
  },
  {
   "cell_type": "markdown",
   "metadata": {},
   "source": [
    "git ignore *.pkl로 백업을 해놨다.<br>\n",
    "주어진 데이터로 신나게 실험을 해보자!"
   ]
  },
  {
   "cell_type": "markdown",
   "metadata": {},
   "source": [
    "---\n",
    "훈련 데이터와 테스트 데이터를 Tensor로 변환하는 작업까지 했다. 이어서 나머지 과정들을 진행해보도록 하자."
   ]
  },
  {
   "cell_type": "markdown",
   "metadata": {},
   "source": [
    "### 설명변수와 목적변수 병합 "
   ]
  },
  {
   "cell_type": "code",
   "execution_count": 35,
   "metadata": {},
   "outputs": [
    {
     "name": "stdout",
     "output_type": "stream",
     "text": [
      "(tensor([101., 126.,  77.,  ...,  43., 167.,  54.]), tensor(2))\n"
     ]
    }
   ],
   "source": [
    "# 설명변수와 목적변수의 텐서를 합침\n",
    "train = TensorDataset(train_X, train_Y)\n",
    "\n",
    "# 텐서의 첫 번째 데이터 내용 확인\n",
    "print(train[0])"
   ]
  },
  {
   "cell_type": "markdown",
   "metadata": {},
   "source": [
    "### Mini-Batch 분할"
   ]
  },
  {
   "cell_type": "code",
   "execution_count": 36,
   "metadata": {},
   "outputs": [],
   "source": [
    "train_loader = DataLoader(train, batch_size=16, shuffle=True)"
   ]
  },
  {
   "cell_type": "markdown",
   "metadata": {},
   "source": [
    "## #4. 신경망 구성"
   ]
  },
  {
   "cell_type": "markdown",
   "metadata": {},
   "source": [
    "학습에 사용할 신경망을 구성한다.<br>\n",
    "입력층의 노드 수는 50172개(설명 변수의 개수), 중간층 노드의 수는 96개, 출력층 노드의 수는 25개이다(목적변수의 수)"
   ]
  },
  {
   "cell_type": "code",
   "execution_count": 48,
   "metadata": {},
   "outputs": [],
   "source": [
    "# 신경망 구성\n",
    "\n",
    "class Net(nn.Module):\n",
    "    def __init__(self):\n",
    "        super(Net, self).__init__()\n",
    "        self.fc1 = nn.Linear(50176, 96)\n",
    "        self.fc2 = nn.Linear(96, 25)\n",
    "        \n",
    "    def forward(self, x):\n",
    "        x = F.relu(self.fc1(x))\n",
    "        x = self.fc2(x)\n",
    "        return F.log_softmax(x)"
   ]
  },
  {
   "cell_type": "markdown",
   "metadata": {},
   "source": [
    "## #5. 모형 학습"
   ]
  },
  {
   "cell_type": "code",
   "execution_count": 49,
   "metadata": {},
   "outputs": [],
   "source": [
    "# model이라는 이름으로 클래스의 인스턴스를 생성한다.\n",
    "\n",
    "model = Net()"
   ]
  },
  {
   "cell_type": "markdown",
   "metadata": {},
   "source": [
    "### 5-1. Optimizer SGD"
   ]
  },
  {
   "cell_type": "code",
   "execution_count": null,
   "metadata": {},
   "outputs": [
    {
     "name": "stderr",
     "output_type": "stream",
     "text": [
      "C:\\Users\\stevelee\\Anaconda3\\lib\\site-packages\\ipykernel_launcher.py:12: UserWarning: Implicit dimension choice for log_softmax has been deprecated. Change the call to include dim=X as an argument.\n",
      "  if sys.path[0] == '':\n"
     ]
    }
   ],
   "source": [
    "# 오차함수 객체 생성\n",
    "criterion = nn.CrossEntropyLoss()\n",
    "\n",
    "# 최적화를 담당할 객체\n",
    "optimizer = optim.SGD(model.parameters(), lr=0.01)\n",
    "\n",
    "# 학습 시작\n",
    "for epoch in range(100):\n",
    "    total_loss = 0\n",
    "    # 분할해둔 데이터를 꺼내온다.\n",
    "    for train_x, train_y in train_loader:\n",
    "        # 계산 그래프 구성\n",
    "        train_x, train_y = Variable(train_x), Variable(train_y)\n",
    "        # 경사 초기화\n",
    "        optimizer.zero_grad()\n",
    "        # 순전파 계산\n",
    "        output = model(train_x)\n",
    "        # 오차 계산\n",
    "        loss = criterion(output, train_y)\n",
    "        # 역전파 계산\n",
    "        loss.backward()\n",
    "        # 가중치 업데이터\n",
    "        optimizer.step()\n",
    "        # 누적 오차 계산\n",
    "        total_loss += loss.data\n",
    "        \n",
    "    # 50회마다 누적 오차 출력\n",
    "    if (epoch+1) % 50 == 0:\n",
    "        print(epoch+1, total_loss)"
   ]
  },
  {
   "cell_type": "code",
   "execution_count": null,
   "metadata": {},
   "outputs": [],
   "source": []
  }
 ],
 "metadata": {
  "kernelspec": {
   "display_name": "Python 3",
   "language": "python",
   "name": "python3"
  },
  "language_info": {
   "codemirror_mode": {
    "name": "ipython",
    "version": 3
   },
   "file_extension": ".py",
   "mimetype": "text/x-python",
   "name": "python",
   "nbconvert_exporter": "python",
   "pygments_lexer": "ipython3",
   "version": "3.7.6"
  }
 },
 "nbformat": 4,
 "nbformat_minor": 4
}
