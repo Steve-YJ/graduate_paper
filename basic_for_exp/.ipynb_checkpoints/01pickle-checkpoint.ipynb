{
 "cells": [
  {
   "cell_type": "markdown",
   "metadata": {},
   "source": [
    "## 01. 파이썬 Pickle 모듈 스터디\n",
    "딥러닝 분석을 위한 데이터는 준비됬으나 Pickle 모듈을 제대로 활용하지 못하는 상황이다.<br>\n",
    "Pickle 모듈을 기본부터 학습하고 데이터를 통해 모델을 훈련시켜보도록 하자."
   ]
  },
  {
   "cell_type": "markdown",
   "metadata": {},
   "source": [
    "---\n",
    "* 참고 링크\n",
    "    * 초보몽키의 개발공부로그-파이썬 pickle 모듈: https://wayhome25.github.io/cs/2017/04/04/cs-04/\n",
    "    * \n",
    "    * "
   ]
  },
  {
   "cell_type": "markdown",
   "metadata": {},
   "source": [
    "## pickle 모듈\n",
    "* 우리가 일반적으로 텍스트를 파일로 저장할 때는 파일 입출력을 이용한다.\n",
    "* 하지만 <code>리스트</code>나 <code>클래스</code> 같은 텍스트가 아닌 자료형은 일반적인 파일 입출력 방법으로 데이터를 저장하거나 불러올 수 없다.\n",
    "* 파이썬에서는 이와 같은 텍스트 이외의 자료형을 파일로 저장하기 위해 <code>pickle</code>라는 모듈을 제공한다."
   ]
  },
  {
   "cell_type": "markdown",
   "metadata": {},
   "source": [
    "일반적인 방법으로 데이터 입력"
   ]
  },
  {
   "cell_type": "code",
   "execution_count": 1,
   "metadata": {},
   "outputs": [],
   "source": [
    "# 파일에 텍스트 입력하기\n",
    "\n",
    "text = \"hello world!\"\n",
    "with open('hello.txt', 'w') as f:\n",
    "    f.write(text)"
   ]
  },
  {
   "cell_type": "code",
   "execution_count": 3,
   "metadata": {},
   "outputs": [],
   "source": [
    "with open ('hello.txt', 'r') as f:\n",
    "    lines = f.readlines()\n",
    "    print(lines)"
   ]
  },
  {
   "cell_type": "code",
   "execution_count": null,
   "metadata": {},
   "outputs": [],
   "source": []
  }
 ],
 "metadata": {
  "kernelspec": {
   "display_name": "Python 3",
   "language": "python",
   "name": "python3"
  },
  "language_info": {
   "codemirror_mode": {
    "name": "ipython",
    "version": 3
   },
   "file_extension": ".py",
   "mimetype": "text/x-python",
   "name": "python",
   "nbconvert_exporter": "python",
   "pygments_lexer": "ipython3",
   "version": "3.7.6"
  }
 },
 "nbformat": 4,
 "nbformat_minor": 4
}
