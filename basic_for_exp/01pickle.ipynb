{
 "cells": [
  {
   "cell_type": "markdown",
   "metadata": {},
   "source": [
    "## 01. 파이썬 Pickle 모듈 스터디\n",
    "딥러닝 분석을 위한 데이터는 준비됬으나 Pickle 모듈을 제대로 활용하지 못하는 상황이다.<br>\n",
    "Pickle 모듈을 기본부터 학습하고 데이터를 통해 모델을 훈련시켜보도록 하자."
   ]
  },
  {
   "cell_type": "markdown",
   "metadata": {},
   "source": [
    "---\n",
    "* 참고 링크\n",
    "    * 초보몽키의 개발공부로그-파이썬 pickle 모듈: https://wayhome25.github.io/cs/2017/04/04/cs-04/\n",
    "    * 생물정보학자의 블로그 - https://korbillgates.tistory.com/173\n",
    "    * "
   ]
  },
  {
   "cell_type": "markdown",
   "metadata": {},
   "source": [
    "## pickle 모듈\n",
    "* 우리가 일반적으로 텍스트를 파일로 저장할 때는 파일 입출력을 이용한다.\n",
    "* 하지만 <code>리스트</code>나 <code>클래스</code> 같은 텍스트가 아닌 자료형은 일반적인 파일 입출력 방법으로 데이터를 저장하거나 불러올 수 없다.\n",
    "* 파이썬에서는 이와 같은 텍스트 이외의 자료형을 파일로 저장하기 위해 <code>pickle</code>라는 모듈을 제공한다.\n",
    "\n",
    "\"파이썬 pickle이란 먹는 피클이 아닌 파이썬 객체 자체를 파일로 저장하는 것이다.\""
   ]
  },
  {
   "cell_type": "markdown",
   "metadata": {},
   "source": [
    "일반적인 방법으로 데이터 입력"
   ]
  },
  {
   "cell_type": "code",
   "execution_count": 1,
   "metadata": {},
   "outputs": [],
   "source": [
    "# 파일에 텍스트 입력하기\n",
    "\n",
    "text = \"hello world!\"\n",
    "with open('hello.txt', 'w') as f:\n",
    "    f.write(text)"
   ]
  },
  {
   "cell_type": "code",
   "execution_count": 4,
   "metadata": {},
   "outputs": [
    {
     "name": "stdout",
     "output_type": "stream",
     "text": [
      "['hello world!']\n"
     ]
    }
   ],
   "source": [
    "with open ('hello.txt', 'r') as f:\n",
    "    lines = f.readlines()\n",
    "    print(lines)"
   ]
  },
  {
   "cell_type": "markdown",
   "metadata": {},
   "source": [
    "파일에 리스트를 입력한다면?"
   ]
  },
  {
   "cell_type": "code",
   "execution_count": 5,
   "metadata": {},
   "outputs": [
    {
     "ename": "TypeError",
     "evalue": "write() argument must be str, not list",
     "output_type": "error",
     "traceback": [
      "\u001b[1;31m---------------------------------------------------------------------------\u001b[0m",
      "\u001b[1;31mTypeError\u001b[0m                                 Traceback (most recent call last)",
      "\u001b[1;32m<ipython-input-5-24066cfd9b09>\u001b[0m in \u001b[0;36m<module>\u001b[1;34m\u001b[0m\n\u001b[0;32m      1\u001b[0m \u001b[0mlist\u001b[0m \u001b[1;33m=\u001b[0m \u001b[1;33m[\u001b[0m\u001b[1;34m'a'\u001b[0m\u001b[1;33m,\u001b[0m \u001b[1;34m'b'\u001b[0m\u001b[1;33m,\u001b[0m \u001b[1;34m'c'\u001b[0m\u001b[1;33m,\u001b[0m \u001b[1;34m'd'\u001b[0m\u001b[1;33m]\u001b[0m\u001b[1;33m\u001b[0m\u001b[1;33m\u001b[0m\u001b[0m\n\u001b[0;32m      2\u001b[0m \u001b[1;32mwith\u001b[0m \u001b[0mopen\u001b[0m\u001b[1;33m(\u001b[0m\u001b[1;34m'list.txt'\u001b[0m\u001b[1;33m,\u001b[0m \u001b[1;34m'w'\u001b[0m\u001b[1;33m)\u001b[0m \u001b[1;32mas\u001b[0m \u001b[0mf\u001b[0m\u001b[1;33m:\u001b[0m\u001b[1;33m\u001b[0m\u001b[1;33m\u001b[0m\u001b[0m\n\u001b[1;32m----> 3\u001b[1;33m     \u001b[0mf\u001b[0m\u001b[1;33m.\u001b[0m\u001b[0mwrite\u001b[0m\u001b[1;33m(\u001b[0m\u001b[0mlist\u001b[0m\u001b[1;33m)\u001b[0m\u001b[1;33m\u001b[0m\u001b[1;33m\u001b[0m\u001b[0m\n\u001b[0m",
      "\u001b[1;31mTypeError\u001b[0m: write() argument must be str, not list"
     ]
    }
   ],
   "source": [
    "list = ['a', 'b', 'c', 'd']\n",
    "with open('list.txt', 'w') as f:\n",
    "    f.write(list)"
   ]
  },
  {
   "cell_type": "markdown",
   "metadata": {},
   "source": [
    "## pickle 모듈을 사용한다면 어떤 점이 좋을까?"
   ]
  },
  {
   "cell_type": "markdown",
   "metadata": {},
   "source": [
    "*데이터를 저장하고 불러올 때 매우 유용한 라이브러리이다.*"
   ]
  },
  {
   "cell_type": "markdown",
   "metadata": {},
   "source": [
    "- 생물정보학자님의 예제<br>\n",
    "만약 우리가 10GB raw text 파일을 파싱하여 필요한 부분을 뺴내서 사용한다고 가정해보자. <br>\n",
    "raw text에서 필요한 내용이 있을 때마다 파싱하여 필요한 부분을 뺀다면 비효율적일 것이다.<br>\n",
    "그래서 미리 필요한 부분을 딕셔너리, 리스트, 튜플 등으로 저장해 놓는 것이다.<br>\n",
    "앞서 말했던 것처럼 text파일이 아닌 자료형을 저장해야 하기 때문에 pickle 모듈을 활용해 객체 자체를 바이너리로 저장하는 것이다.\n",
    "\n",
    "이처럼 <code>pickle 모듈</code>을 활용하면 저장된 pickle 파일을 불러오기만 하면 되기 때문에 훨씬 더 빠르게 원하는 데이터를 불러올 수 있다."
   ]
  },
  {
   "cell_type": "markdown",
   "metadata": {},
   "source": [
    "## pickle 모듈을 활용한 데이터 입력 및 로드"
   ]
  },
  {
   "cell_type": "markdown",
   "metadata": {},
   "source": [
    "* <code>pickle</code> 모듈을 import 해준다.\n",
    "* pickle 모듈을 이용하면 원하는 데이터를 자료형의 변경 없이 파일로 저장하여 그대로 로드할 수 있다.<br>\n",
    "    open('text.txt', 'w') 방식으로 데이터를 입력하면 string 자료형으로 저장된다 ??\n",
    "* <code>pickle</code>로 데이터를 저장하거나 불러올 때는 파일을 <code>바이트형식</code>으로 읽거나 써야한다.\n",
    "* wb로 데이터를 입력하는 경우 .bin 확장자를 사용하는게 좋다.\n",
    "* 모든 파이썬 데이터 객체를 저장하고 읽을 수 있다."
   ]
  },
  {
   "cell_type": "markdown",
   "metadata": {},
   "source": [
    "직접 코드를 통해 확인해보자"
   ]
  },
  {
   "cell_type": "markdown",
   "metadata": {},
   "source": [
    "### 입력"
   ]
  },
  {
   "cell_type": "markdown",
   "metadata": {},
   "source": [
    "* pickle.dump(data, file)"
   ]
  },
  {
   "cell_type": "code",
   "execution_count": 7,
   "metadata": {},
   "outputs": [],
   "source": [
    "import pickle\n",
    "list = ['a', 'b', 'c']\n",
    "with open('list.txt', 'wb') as f:\n",
    "    pickle.dump(list, f)"
   ]
  },
  {
   "cell_type": "markdown",
   "metadata": {},
   "source": [
    "### 로드"
   ]
  },
  {
   "cell_type": "markdown",
   "metadata": {},
   "source": [
    "* 변수 = pickle.load(file)\n",
    "* 한줄씩 파일을 읽어오고 더이상 로드할 데이터가 없으면 <code>EOFError</code>발생"
   ]
  },
  {
   "cell_type": "code",
   "execution_count": 9,
   "metadata": {},
   "outputs": [],
   "source": [
    "with open('list.txt', 'rb') as f:\n",
    "    data = pickle.load(f)"
   ]
  },
  {
   "cell_type": "code",
   "execution_count": 10,
   "metadata": {},
   "outputs": [
    {
     "data": {
      "text/plain": [
       "['a', 'b', 'c']"
      ]
     },
     "execution_count": 10,
     "metadata": {},
     "output_type": "execute_result"
    }
   ],
   "source": [
    "data"
   ]
  },
  {
   "cell_type": "markdown",
   "metadata": {},
   "source": [
    "오... 이렇게 사용하는 거구나...! 😃 "
   ]
  },
  {
   "cell_type": "markdown",
   "metadata": {},
   "source": [
    "## 참고\n",
    "* pickle.load(파일)을 통해서 파일 내용을 읽어오려면, pickle.dump를 사용해서 데이터를 입력한 파일이어야 한다."
   ]
  },
  {
   "cell_type": "code",
   "execution_count": null,
   "metadata": {},
   "outputs": [],
   "source": []
  }
 ],
 "metadata": {
  "kernelspec": {
   "display_name": "Python 3",
   "language": "python",
   "name": "python3"
  },
  "language_info": {
   "codemirror_mode": {
    "name": "ipython",
    "version": 3
   },
   "file_extension": ".py",
   "mimetype": "text/x-python",
   "name": "python",
   "nbconvert_exporter": "python",
   "pygments_lexer": "ipython3",
   "version": "3.7.6"
  }
 },
 "nbformat": 4,
 "nbformat_minor": 4
}
